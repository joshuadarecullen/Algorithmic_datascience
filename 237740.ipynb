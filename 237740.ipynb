{
 "cells": [
  {
   "cell_type": "markdown",
   "id": "4f339ff9",
   "metadata": {},
   "source": [
    "# Introduction"
   ]
  },
  {
   "cell_type": "markdown",
   "id": "e76d1e18",
   "metadata": {},
   "source": [
    "The report has 5 sections in which it will cover two distinguished similarity  measures, Jaccard and Cosine. A theoretical analysis will be undertaken of the algorithmic interpretation for the application to documents containing bags of words. To verify the theoretical analysis, experiments will be conducted and their results discussed. The Cosine similarity will be looked at for both dense (vector format) and sparse (dictionary format) to see which one is more efficient. Furthermore, these measures will be used to compare 50 documents, containing more than 500 words, against eachother for their similarities. Finally the Map Reduce / Parallel processing paradigm will be looked at to see if it can lower the execution time of all pair similarity of 50 documents."
   ]
  },
  {
   "cell_type": "markdown",
   "id": "6742d8c9",
   "metadata": {},
   "source": [
    "Note to reader: word count = 2030"
   ]
  },
  {
   "cell_type": "code",
   "execution_count": 8,
   "id": "6eafe325",
   "metadata": {},
   "outputs": [],
   "source": [
    "#The modules below are important for conducting experiments and showing their results throughout the report\n",
    "%matplotlib inline\n",
    "import class_documents #include in zip folder\n",
    "import time_it #included in zip folder\n",
    "import matplotlib.pyplot as plt # for plotting\n",
    "import scipy.stats as stats # drawing a line of regression\n",
    "import numpy as np"
   ]
  },
  {
   "cell_type": "markdown",
   "id": "88b07258",
   "metadata": {},
   "source": [
    "Collecting Documents."
   ]
  },
  {
   "cell_type": "code",
   "execution_count": 21,
   "id": "422e3ed7",
   "metadata": {},
   "outputs": [],
   "source": [
    "doc = class_documents.Documents()\n",
    "bag_list = doc.get_documents(50)\n",
    "docdicts = doc.make_dict(bag_list)\n",
    "vect_rep = doc.transpose(doc.make_matrix(docdicts))\n",
    "#creating large document via concatanation of the documents\n",
    "one_bag = []\n",
    "for n in range(50):\n",
    "    one_bag += bag_list[n]\n",
    "    \n",
    "dict_rep = doc.compose_dic(one_bag)"
   ]
  },
  {
   "cell_type": "markdown",
   "id": "17283c6d",
   "metadata": {},
   "source": [
    "# Section 1: Analysis of Jaccard’s similarity measure applied to large documents represented as bags of words (in a Python dictionary)"
   ]
  },
  {
   "cell_type": "markdown",
   "id": "c67186f5",
   "metadata": {},
   "source": [
    "## The Jaccard' s similarity formula\n",
    "$J(A,B)=\\cfrac{\\mid A\\cap B\\mid}{\\mid A \\cup B\\mid}$"
   ]
  },
  {
   "cell_type": "markdown",
   "id": "15a937c9",
   "metadata": {},
   "source": [
    "## Algorithmic Implementation of Jaccard's"
   ]
  },
  {
   "cell_type": "code",
   "execution_count": 22,
   "id": "22a42568",
   "metadata": {},
   "outputs": [],
   "source": [
    "def count_total(dict1):\n",
    "    \n",
    "    total = 0\n",
    "    for item in dict1:\n",
    "        total += dict1[item] #taking sum of all values in passed dict\n",
    "    return total\n",
    "         \n",
    "\n",
    "def jaccard(dict1,dict2):\n",
    "    \n",
    "    intersection = {}\n",
    "    \n",
    "    #loops through a dictionary and uses an if statement to check whether it is contained in the second dictionary\n",
    "    for item in dict1.keys():\n",
    "        if item in dict2.keys():\n",
    "            intersection[item]=min(dict1[item],dict2[item])\n",
    "     \n",
    "    #calculation of the intersection and union\n",
    "    intersectiontot = count_total(intersection)\n",
    "    union = count_total(dict1) + count_total(dict2) - intersectiontot\n",
    "    \n",
    "    return intersectiontot / union\n",
    "    "
   ]
  },
  {
   "cell_type": "markdown",
   "id": "698d29ad",
   "metadata": {},
   "source": [
    "The Jaccards measure analysis the similarity between two sets by assessing the intersection of the sets divided by their union. The similarity measure is given from 0 to 1, with 1 being the sets are identical, and zero being no similarity at all. Three processes, Intersection, divided by the union.\n",
    "\n",
    "In terms of the algorithm above, it can be broken down into each line in terms of run time with simple units of measurement, 1 representing constant time, n for linear:\n",
    "\n",
    "                                            count_total function\n",
    "                                               runtime = 2n + 3\n",
    "                                   \n",
    "                                               Jaccard function\n",
    "                                       intersection={} : 1\n",
    "                                              for loop : n + 1\n",
    "                                          if statement : n\n",
    "                                      equals statement : n\n",
    "                                     intersection calc : 2n + 3 + 1\n",
    "                                     union calculation : 2n + 4 + 2n + 4 + 1\n",
    "                                      return statement : 1\n",
    "                                      \n",
    "                                         total runtime = 9n + 16\n",
    "                                         \n",
    "In terms of the algorithm above, it computes the intersection by looping through $n$ amount of keys from a dictionary and using a conditional statement to check if it's contained in the dictionary given for comparison. The for loop's run time is directly proportional to the length of the dictionary chosen to loop through. Hence, the time to execute increases with the size of the input. The conditional statement execution time is the same amount as the for loop. This is due to Python dictionaries using a hash table, as it isn't require to iterate through the entire dictionary of comparison, stopping the runtime becoming $n$ x $n$. Considering the similarity of the documents having an effect on the run time, this should be true wen $n$ is small, ushering in a factor of difference in runtime between high and low similarities. Because, the totalling of the intersection requires a for loop, if similarity is 1, it's run time will be identical to that of the length of the dictionary. Hence, theoretically the worse case runtime will be when the similarity of the documents is 1.\n",
    "\n",
    "Analysing $f(n) = 9n + 16$ in terms of asymptotic behaviour of the input $n$, the coefficients contained in the equation can be dropped. Theoretically, the Jaccard algorithm by big O notation is $O(n)$."
   ]
  },
  {
   "cell_type": "markdown",
   "id": "40efafa9",
   "metadata": {},
   "source": [
    "### Similarity of documents and its effect upon execution time for a small number of words."
   ]
  },
  {
   "cell_type": "code",
   "execution_count": 109,
   "id": "9496d069",
   "metadata": {},
   "outputs": [
    {
     "name": "stdout",
     "output_type": "stream",
     "text": [
      "0.22873745377707344\n",
      "1.0\n"
     ]
    }
   ],
   "source": [
    "print(jaccard(docdicts[11],docdicts[17]))\n",
    "print(jaccard(docdicts[1],docdicts[1]))"
   ]
  },
  {
   "cell_type": "code",
   "execution_count": 104,
   "id": "aa9d207a",
   "metadata": {},
   "outputs": [],
   "source": [
    "low_sim = []\n",
    "high_sim = []\n",
    "num = []\n",
    "\n",
    "for n in range(1,1000):\n",
    "    \n",
    "    #take first n words keys of each dict, by casting the dict items to a list and slicing at n\n",
    "    A_subset = {k: v for k, v in list(docdicts[11].items())[:n]}\n",
    "    B_subset = {k: v for k, v in list(docdicts[17].items())[:n]}\n",
    "    \n",
    "    #timing the execution of jaccard\n",
    "    ans, mean, error = time_it.timeit(jaccard, A_subset, B_subset)\n",
    "    low_sim.append(mean)\n",
    "\n",
    "    C_subset = {k: v for k, v in list(docdicts[1].items())[:n]}\n",
    "    D_subset = {k: v for k, v in list(docdicts[1].items())[:n]}\n",
    "    \n",
    "    ans, mean, error = time_it.timeit(jaccard, C_subset, D_subset)\n",
    "    high_sim.append(mean)\n",
    "    \n",
    "    num.append(n)"
   ]
  },
  {
   "cell_type": "code",
   "execution_count": 143,
   "id": "fef28d23",
   "metadata": {},
   "outputs": [
    {
     "data": {
      "image/png": "[encoded data removed]",
      "text/plain": [
       "<Figure size 432x288 with 1 Axes>"
      ]
     },
     "metadata": {
      "needs_background": "light"
     },
     "output_type": "display_data"
    }
   ],
   "source": [
    "plt.scatter(num,high_sim)\n",
    "plt.scatter(num,low_sim)\n",
    "plt.ylabel(\"Average time to execute\")\n",
    "plt.xlabel(\"Amount of words\")\n",
    "plt.title(\"Differing similarity\")\n",
    "plt.legend([\"high sim\", \"low sim\"])\n",
    "plt.show()"
   ]
  },
  {
   "cell_type": "markdown",
   "id": "e966142c",
   "metadata": {},
   "source": [
    "As theoretically analysed, the similarity does have a relationship to the execution time for when $n$ is small. The time starts to differentiate at 100 words and plateaus at around 900."
   ]
  },
  {
   "cell_type": "markdown",
   "id": "b899e4fd",
   "metadata": {},
   "source": [
    "#### Worst case senario for Jaccard measure, identical documents with increasing number of words being added to the dictionary."
   ]
  },
  {
   "cell_type": "code",
   "execution_count": 113,
   "id": "64700049",
   "metadata": {},
   "outputs": [],
   "source": [
    "jac_xs = []\n",
    "jac_ys = []\n",
    "\n",
    "#timing execution of jaccard function with increase lengths of the dictionary\n",
    "for n in range(10,len(dict_rep),10):\n",
    "    \n",
    "    #take first n words keys of each dict, by casting the dict items to a list and slicing by at n\n",
    "    A_subset = {k: v for k, v in list(dict_rep.items())[:n]}\n",
    "    B_subset = {k: v for k, v in list(dict_rep.items())[:n]}\n",
    "  \n",
    "    ans, mean_wc, error_wc = time_it.timeit(jaccard, A_subset, B_subset)\n",
    "    \n",
    "    jac_xs.append(n)\n",
    "    jac_ys.append(mean_wc)"
   ]
  },
  {
   "cell_type": "markdown",
   "id": "c8a5af4e",
   "metadata": {},
   "source": [
    "#### Plotting increasing words in dictionary against time taken to execute. "
   ]
  },
  {
   "cell_type": "code",
   "execution_count": 144,
   "id": "e3de6e87",
   "metadata": {},
   "outputs": [
    {
     "data": {
      "image/png": "[encoded data removed]",
      "text/plain": [
       "<Figure size 432x288 with 1 Axes>"
      ]
     },
     "metadata": {
      "needs_background": "light"
     },
     "output_type": "display_data"
    }
   ],
   "source": [
    "plt.scatter(jac_xs,jac_ys)\n",
    "plt.ylabel(\"Average time to execute\")\n",
    "plt.xlabel(\"Length of dict\")\n",
    "plt.title(\"Worst Case Jaccard\")\n",
    "plt.show()"
   ]
  },
  {
   "cell_type": "markdown",
   "id": "083dc105",
   "metadata": {},
   "source": [
    "From the graph we can interpret that the Jaccards measure algorithm run time is linear, with the line being significantly straight. The growth of execution time is consistent with the growth of the length of the dictionary. There are two drops in time at around 5000 and 11,000 dictionary length but little other deviation.\n",
    "\n",
    "Looking at the $O(n)$, this can be written as $O(n^1)$. Furthermore, as $y=c_a.x^n$. The $x$ being length of dictionary and $y$ being execution time, then logs can be applied to both sides such that: \n",
    "                                $\\log(y) = \\log(c_a) + n \\log(x)$\n",
    "                                \n",
    "Plotting a graph of $\\log(y)$ against $\\log(x)$ the gradient will be $n$ and the $y$ intercept will be $\\log(c_a)$."
   ]
  },
  {
   "cell_type": "code",
   "execution_count": 145,
   "id": "056bb381",
   "metadata": {},
   "outputs": [
    {
     "data": {
      "image/png": "[encoded data removed]",
      "text/plain": [
       "<Figure size 432x288 with 1 Axes>"
      ]
     },
     "metadata": {
      "needs_background": "light"
     },
     "output_type": "display_data"
    }
   ],
   "source": [
    "log_xs=[np.log10(x) for x in jac_xs]\n",
    "log_ys=[np.log10(y) for y in jac_ys]\n",
    "\n",
    "plt.plot(log_xs,log_ys)\n",
    "plt.ylabel(\"Logged Average time to execute\")\n",
    "plt.xlabel(\"Logged Length of dict\")\n",
    "plt.title(\"Worst Case Jaccard\")\n",
    "plt.show()"
   ]
  },
  {
   "cell_type": "code",
   "execution_count": 146,
   "id": "9da126d1",
   "metadata": {},
   "outputs": [
    {
     "name": "stdout",
     "output_type": "stream",
     "text": [
      "Slope is 1.044506870137251 and intercept is -6.654496390677048\n"
     ]
    }
   ],
   "source": [
    "slope, intercept, r_value, p_value, std_err = stats.linregress(log_xs, log_ys)\n",
    "print(\"Slope is {} and intercept is {}\".format(slope,intercept)) "
   ]
  },
  {
   "cell_type": "markdown",
   "id": "c9c38924",
   "metadata": {},
   "source": [
    "## Constants for implementation and computer. "
   ]
  },
  {
   "cell_type": "markdown",
   "id": "6b054cb5",
   "metadata": {},
   "source": [
    "This shows empirically $O(n^{1.04})$ which closely matches the theoretical estimated runtime by the big O notation of $O(n)$. As shown by the gradient the execution time is directly proportional to the size of the input $n$. The y intercept is -6.64, so $c_a \\approx 10^{-7} = 0.0000001$. The empirical runtime can be expressed: $y = 10^{-7}*x^{1.04}$\n"
   ]
  },
  {
   "cell_type": "markdown",
   "id": "8673a498",
   "metadata": {},
   "source": [
    "# Section 2. Analysis of Cosine Similarity applied to documents represented as dense representation."
   ]
  },
  {
   "cell_type": "markdown",
   "id": "33d98917",
   "metadata": {},
   "source": [
    "## The consine similarity formula\n",
    "$cos\\theta = \\cfrac{A\\cdot B}{\\sqrt{A\\cdot A}\\sqrt{B\\cdot B}}$"
   ]
  },
  {
   "cell_type": "markdown",
   "id": "6bd98ddf",
   "metadata": {},
   "source": [
    "## Algorithmic interpretation of Cosine similarity"
   ]
  },
  {
   "cell_type": "code",
   "execution_count": 20,
   "id": "cfc20314",
   "metadata": {},
   "outputs": [],
   "source": [
    "import math\n",
    "\n",
    "def dot_prod(v1,v2):\n",
    "    product = 0\n",
    "    for n in range(0,len(v1)):\n",
    "        product += v1[n] * v2[n]    \n",
    "    return product\n",
    "    \n",
    "def cosine_sim(v1,v2): \n",
    "    return dot_prod(v1,v2)/ math.sqrt(dot_prod(v1,v1)*dot_prod(v2,v2))"
   ]
  },
  {
   "cell_type": "markdown",
   "id": "4fbf7128",
   "metadata": {},
   "source": [
    "The cosine similarity can be used on two sets to give a geometric notation of similarity. The words in the two sets being represented by their frequency in a vector. The angle between the two vectors is being measured. As this angle becomes smaller the similarity between the two documents becomes higher. As before, we can measure the algorithm above with simple units of runtime measurements.\n",
    "\n",
    "                                          dot_product function\n",
    "                                          \n",
    "                                 product variable assigned : 1\n",
    "                                                  for loop : n + 1\n",
    "                                     calculation statement : n \n",
    "                                          return statement : 1\n",
    "                                          \n",
    "                                      theoretical run time = 2n + 3 \n",
    "                                                \n",
    "                                           cosine_sim function\n",
    "                                           \n",
    "                                            3 * (2n+3) + 1 = 6n + 10\n",
    "\n",
    "Given the theoretical run time $f(n) = 6n + 10$, and the notation of big O, it can be determined that the run time will asymptotically scale as a function of $n$ to $O(n)$. The documents word frequency is represented via a vector, zeros fill the place in the vector when a document doesn't contain a corresponding word from the dictionary of comparison. The vectors are always the same length. Based on this, the worst case runtime of the algorithm is the length of the given vectors."
   ]
  },
  {
   "cell_type": "markdown",
   "id": "1538b931",
   "metadata": {},
   "source": [
    "### Empirical investigation into the worse case of cosine similarity."
   ]
  },
  {
   "cell_type": "code",
   "execution_count": 122,
   "id": "c1ef60f6",
   "metadata": {},
   "outputs": [],
   "source": [
    "cos_xs = []\n",
    "cos_ys = []\n",
    "\n",
    "for n in range(50,len(dict_rep),5):\n",
    "    \n",
    "    #take first n word's keys of each dict, by casting the dict items to a list and slicing by n\n",
    "    A_subset = {k: v for k, v in list(dict_rep.items())[:n]}\n",
    "    B_subset = {k: v for k, v in list(dict_rep.items())[:n]}\n",
    "    \n",
    "    #creating a vector representation \n",
    "    vector_rep = doc.transpose(doc.make_matrix([A_subset,B_subset]))\n",
    "  \n",
    "    ans, mean, error = time_it.timeit(cosine_sim, vector_rep[0], vector_rep[1])\n",
    "    \n",
    "    cos_xs.append(n)\n",
    "    cos_ys.append(mean)"
   ]
  },
  {
   "cell_type": "markdown",
   "id": "26081344",
   "metadata": {},
   "source": [
    "#### Plotting the length of the vector against time taken to execute."
   ]
  },
  {
   "cell_type": "code",
   "execution_count": 147,
   "id": "fd54dba5",
   "metadata": {},
   "outputs": [
    {
     "data": {
      "image/png": "[encoded data removed]",
      "text/plain": [
       "<Figure size 432x288 with 1 Axes>"
      ]
     },
     "metadata": {
      "needs_background": "light"
     },
     "output_type": "display_data"
    }
   ],
   "source": [
    "plt.scatter(cos_xs,cos_ys)\n",
    "plt.ylabel(\"Average time to execute\")\n",
    "plt.xlabel(\"Length of vector\")\n",
    "plt.title(\"Worst Case Cosine\")\n",
    "plt.show()"
   ]
  },
  {
   "cell_type": "markdown",
   "id": "251dccb7",
   "metadata": {},
   "source": [
    "Observing the graph, it can be derived that vector length has a linear relationship with the time taken to execute. Although, the deviation of the observation points is fairly spread throughout, but more when the vector length grows. This could be remedied by executing more repeats at each vector length to get a more accurate mean time."
   ]
  },
  {
   "cell_type": "code",
   "execution_count": 125,
   "id": "695bd7bb",
   "metadata": {},
   "outputs": [
    {
     "name": "stdout",
     "output_type": "stream",
     "text": [
      "Slope is 1.5163753374384633e-07 and intercept is 1.0008375005009836e-05\n",
      "Standard Error 6.639494404666089e-06\n"
     ]
    }
   ],
   "source": [
    "slope, intercept, r_value, p_value, std_err = stats.linregress(cos_xs, cos_ys)\n",
    "print(\"Slope is {} and intercept is {}\".format(slope,intercept))\n",
    "print(\"Standard Error {}\".format(error))"
   ]
  },
  {
   "cell_type": "markdown",
   "id": "7ffb3cb0",
   "metadata": {},
   "source": [
    "Verifying using the lingress module, the gradient is at 1.5 and it is shown that the observation points have an average variation from the mean of 6.3.\n",
    "\n",
    "As before, we can consider this $O(n^1)$ $->$ $y=c_a.x^n$, applying logs it becomes: $\\log(y) = \\log(c_a) + n \\log(x)$."
   ]
  },
  {
   "cell_type": "code",
   "execution_count": 148,
   "id": "6e84519e",
   "metadata": {},
   "outputs": [
    {
     "data": {
      "image/png": "[encoded data removed]",
      "text/plain": [
       "<Figure size 432x288 with 1 Axes>"
      ]
     },
     "metadata": {
      "needs_background": "light"
     },
     "output_type": "display_data"
    }
   ],
   "source": [
    "log_cxs=[np.log10(x) for x in cos_xs]\n",
    "log_cys=[np.log10(y) for y in cos_ys]\n",
    "\n",
    "plt.scatter(log_cxs,log_cys)\n",
    "plt.ylabel(\"Logged Average time to execute\")\n",
    "plt.xlabel(\"Logged Length of vector\")\n",
    "plt.title(\"Logged Worse Case Cosine\")\n",
    "plt.show()"
   ]
  },
  {
   "cell_type": "code",
   "execution_count": 149,
   "id": "96616564",
   "metadata": {},
   "outputs": [
    {
     "name": "stdout",
     "output_type": "stream",
     "text": [
      "Slope is 0.9792147961402823 and intercept is -6.734123472452331\n"
     ]
    }
   ],
   "source": [
    "slope, intercept, r_value, p_value, std_err = stats.linregress(log_cxs, log_cys)\n",
    "print(\"Slope is {} and intercept is {}\".format(slope,intercept))"
   ]
  },
  {
   "cell_type": "markdown",
   "id": "4ffeeac1",
   "metadata": {},
   "source": [
    "### Estimated constant for my implementation and computer."
   ]
  },
  {
   "cell_type": "markdown",
   "id": "99794be5",
   "metadata": {},
   "source": [
    "Upon the investigation into the runtime of the cosine measure applied to different lengths of documents in dense representation, it can be empirically verified from the experiment conducted that the worse case runtime can be approximated at $y = 10^-7*x^{0.98}$. The gradient showcasing that the size of the vector has a linear relationship to the execution time of the cosine similarity function. Therefore, by the big O notation for asymptotic behaviour of the cosine similarity function of $n$, it can be denoted $O(n)$."
   ]
  },
  {
   "cell_type": "markdown",
   "id": "8b6bc6c1",
   "metadata": {},
   "source": [
    "#### Comparison with the numpy dot product method"
   ]
  },
  {
   "cell_type": "code",
   "execution_count": 128,
   "id": "74645fab",
   "metadata": {},
   "outputs": [],
   "source": [
    "#dot product implementation\n",
    "def cosine_sim_dot(v1, v2):\n",
    "    return np.dot(v1,v2) / ( np.dot(v1,v2) * np.dot(v1,v2) ) ** 0.5"
   ]
  },
  {
   "cell_type": "code",
   "execution_count": 129,
   "id": "e55355fc",
   "metadata": {},
   "outputs": [],
   "source": [
    "dcos_xs = []\n",
    "dcos_ys = []\n",
    "\n",
    "for n in range(50,len(dict_rep),5):\n",
    "    \n",
    "    #take first n word's keys of each dict, by casting the dict items to a list and slicing by n\n",
    "    A_subset = {k: v for k, v in list(dict_rep.items())[:n]}\n",
    "    B_subset = {k: v for k, v in list(dict_rep.items())[:n]}\n",
    "    \n",
    "    #trasposing in order to compute the dot product of the two vectors\n",
    "    vector_rep = doc.transpose(doc.make_matrix([A_subset,B_subset]))\n",
    "  \n",
    "    ans, mean, error = time_it.timeit(cosine_sim_dot, vector_rep[0], vector_rep[1])\n",
    "    \n",
    "    dcos_xs.append(n)\n",
    "    dcos_ys.append(mean)\n",
    "    "
   ]
  },
  {
   "cell_type": "code",
   "execution_count": 158,
   "id": "c11ee3e5",
   "metadata": {
    "scrolled": false
   },
   "outputs": [
    {
     "data": {
      "text/plain": [
       "<matplotlib.legend.Legend at 0x7fe53aae7880>"
      ]
     },
     "execution_count": 158,
     "metadata": {},
     "output_type": "execute_result"
    },
    {
     "data": {
      "image/png": "[encoded data removed]",
      "text/plain": [
       "<Figure size 1080x360 with 2 Axes>"
      ]
     },
     "metadata": {
      "needs_background": "light"
     },
     "output_type": "display_data"
    }
   ],
   "source": [
    "log_dcxs=[np.log10(x) for x in dcos_xs]\n",
    "log_dcys=[np.log10(y) for y in dcos_ys]\n",
    "\n",
    "fig, (ax1, ax2) = plt.subplots(1, 2,figsize=(15,5))\n",
    "\n",
    "label = [\"Original\", \"Numpy\"]\n",
    "ax1.scatter(cos_xs,cos_ys)\n",
    "ax1.scatter(dcos_xs,dcos_ys)\n",
    "ax1.set_ylabel(\"Average time to execute\")\n",
    "ax1.set_xlabel(\"Length of vector\")\n",
    "ax1.set_title(\"Worst Case Cosine Similarity\")\n",
    "\n",
    "\n",
    "ax2.scatter(log_cxs,log_cys)\n",
    "ax2.scatter(log_dcxs,log_dcys)\n",
    "ax2.set_ylabel(\"Logged Average time to execute\")\n",
    "ax2.set_xlabel(\"Logged Length of vector\")\n",
    "ax2.set_title(\"Logged Worst Case Cosine Similarity\")\n",
    "fig.legend(label)"
   ]
  },
  {
   "cell_type": "markdown",
   "id": "16266636",
   "metadata": {},
   "source": [
    "The Numpy implementation is of similar trend of growth with the original, with a tighter standard error, and more visibly linear. The gradient of the two are significantly similar. In order to get a more accurate comparison let's take a look at the estimated constants for the runtime for both."
   ]
  },
  {
   "cell_type": "code",
   "execution_count": 156,
   "id": "ad18a591",
   "metadata": {},
   "outputs": [
    {
     "name": "stdout",
     "output_type": "stream",
     "text": [
      "Slope is 0.9622024646875632 and intercept is -6.472489070354431\n"
     ]
    }
   ],
   "source": [
    "slope, intercept, r_value, p_value, std_err = stats.linregress(log_dcxs, log_dcys)\n",
    "print(\"Slope is {} and intercept is {}\".format(slope,intercept)) "
   ]
  },
  {
   "cell_type": "markdown",
   "id": "5df67351",
   "metadata": {},
   "source": [
    "The original implementation estimated $y = 10^-{7}*x^{0.98}$. The Numpy implementation $y = 10^{-6}*x^{0.96}$. Here it is shown empirically that the Numpy function is slightly greater by 0.02. If required to choose between, the Numpy displays less deviation of execution time, and is more efficient."
   ]
  },
  {
   "cell_type": "markdown",
   "id": "260bd584",
   "metadata": {},
   "source": [
    "# Section 3: Cosine similarity measure, directly from sparse (dictionary) representation, with a theoretical comparison with the Cosine Similarity (dense representation) and Jaccard Similarity"
   ]
  },
  {
   "cell_type": "markdown",
   "id": "55b55938",
   "metadata": {},
   "source": [
    "### Algorithmic interpretation of cosine similarity from sparse representation of a bag of words "
   ]
  },
  {
   "cell_type": "code",
   "execution_count": 11,
   "id": "26941259",
   "metadata": {},
   "outputs": [],
   "source": [
    "def dot_dict(dict1,dict2):\n",
    "    \n",
    "    product = 0\n",
    "    \n",
    "    #checking the lengths of the dictionarys passed in order to obtain the efficient run time\n",
    "    if len(dict1) < len(dict2):\n",
    "        #looping through dictionary and taking the keys to use in the if statement in order \n",
    "        #to check whether the word is in the dictionary of comparison\n",
    "        for item in dict1.keys(): \n",
    "            if item in dict2.keys():\n",
    "                product += dict1[item] * dict2[item] #multiplying the frequencies of the matched words\n",
    "    else:\n",
    "        for item in dict2.keys():\n",
    "            if item in dict1.keys():\n",
    "                product += dict1[item] * dict2[item]\n",
    "                \n",
    "    return product\n",
    "\n",
    "def cosine_sim_dict(v1,v2): \n",
    "    return dot_dict(v1,v2)/math.sqrt(dot_dict(v1,v1)*dot_dict(v2,v2))"
   ]
  },
  {
   "cell_type": "markdown",
   "id": "6debcceb",
   "metadata": {},
   "source": [
    "The algorithm above uses two functions. First, the cosine_sim_dict formulates the formula of the cosine similarity. The majority of the work is done via the dot_dict function, where a conditional statement is done on the passed dictionaries to check for the shortest of the two. Reason being, the shortest will have the words that are possible within both, the largest length dictionary will run through excess words and could potentially reduce the efficiency of the algorithm. If the conditional statement is met, the frequency of the word is summed."
   ]
  },
  {
   "cell_type": "markdown",
   "id": "c416bcb8",
   "metadata": {},
   "source": [
    "#### Theoretical comparison of cosine sparse with dense representation and the Jaccard"
   ]
  },
  {
   "cell_type": "markdown",
   "id": "8d71c12e",
   "metadata": {},
   "source": [
    "Structurally, the algorithm is similar to its dense representation counterpart. One major difference is instead of lists, it implements dictionaries (sparse). Given that a dictionary is looped through three times, it's close to that of Jaccard, which has four. Although, depending on the similarity, one of those loops in Jaccard could potentially been very small. This leads to the conclusion that theoretically the run time of Cosine sparse should be similar to that of Jaccard."
   ]
  },
  {
   "cell_type": "markdown",
   "id": "05e7818c",
   "metadata": {},
   "source": [
    "#### A check for the correctness of the implementation with a sample of documents"
   ]
  },
  {
   "cell_type": "code",
   "execution_count": 243,
   "id": "51ab690c",
   "metadata": {},
   "outputs": [],
   "source": [
    "dcs_imp = []\n",
    "\n",
    "for i in range(6):\n",
    "    for j in range(2):\n",
    "        vector_r = doc.transpose(doc.make_matrix([docdicts[i],docdicts[j]]))\n",
    "        dcs_imp.append([(i,j),cosine_sim(vector_r[0],vector_r[1]),cosine_sim_dict(docdicts[i],docdicts[j])])"
   ]
  },
  {
   "cell_type": "code",
   "execution_count": 244,
   "id": "3ba2e1cd",
   "metadata": {},
   "outputs": [
    {
     "name": "stdout",
     "output_type": "stream",
     "text": [
      "   Document     Dense    Sparse\n",
      "0    (0, 0)  1.000000  1.000000\n",
      "1    (0, 1)  0.922340  0.922340\n",
      "2    (1, 0)  0.922340  0.922340\n",
      "3    (1, 1)  1.000000  1.000000\n",
      "4    (2, 0)  0.931504  0.931504\n",
      "5    (2, 1)  0.916208  0.916208\n",
      "6    (3, 0)  0.924918  0.924918\n",
      "7    (3, 1)  0.903979  0.903979\n",
      "8    (4, 0)  0.930288  0.930288\n",
      "9    (4, 1)  0.887301  0.887301\n",
      "10   (5, 0)  0.941991  0.941991\n",
      "11   (5, 1)  0.921034  0.921034\n"
     ]
    }
   ],
   "source": [
    "import pandas as pd\n",
    "\n",
    "df =pd.DataFrame(dcs_imp,columns=[\"Document\",\"Dense\",\"Sparse\"])\n",
    "print(df)"
   ]
  },
  {
   "cell_type": "markdown",
   "id": "fe2b0644",
   "metadata": {},
   "source": [
    "The sparse implementation outputs are identical to dense within the sample set."
   ]
  },
  {
   "cell_type": "markdown",
   "id": "8f8edde1",
   "metadata": {},
   "source": [
    "### Empirical Analysis of sparse representation"
   ]
  },
  {
   "cell_type": "code",
   "execution_count": 163,
   "id": "f0f4efcb",
   "metadata": {},
   "outputs": [],
   "source": [
    "scos_xs = []\n",
    "scos_ys = []\n",
    "\n",
    "for n in range(10,len(dict_rep),10):\n",
    "    \n",
    "    #take first n words keys of each dict, by casting the dict items to a list and slicing at n\n",
    "    A_subset = {k: v for k, v in list(dict_rep.items())[:n]}\n",
    "    B_subset = {k: v for k, v in list(dict_rep.items())[:n]}\n",
    "  \n",
    "    ans, mean, error = time_it.timeit(cosine_sim_dict, A_subset, B_subset)\n",
    "    \n",
    "    scos_xs.append(n)\n",
    "    scos_ys.append(mean)"
   ]
  },
  {
   "cell_type": "markdown",
   "id": "dda1d469",
   "metadata": {},
   "source": [
    "#### Plotting Cosine dense representation, sparse and Jaccard "
   ]
  },
  {
   "cell_type": "code",
   "execution_count": 164,
   "id": "39781796",
   "metadata": {},
   "outputs": [
    {
     "data": {
      "image/png": "[encoded data removed]",
      "text/plain": [
       "<Figure size 432x288 with 1 Axes>"
      ]
     },
     "metadata": {
      "needs_background": "light"
     },
     "output_type": "display_data"
    }
   ],
   "source": [
    "plt.scatter(scos_xs,scos_ys)\n",
    "plt.scatter(cos_xs,cos_ys)\n",
    "plt.scatter(jac_xs,jac_ys)\n",
    "plt.ylabel(\"Average time to execute\")\n",
    "plt.xlabel(\"Length\")\n",
    "plt.title(\"Comparsion of all measures\")\n",
    "plt.legend([\"Cos sparse\", \"Cos dense\", \"Jaccard\"])\n",
    "plt.show()"
   ]
  },
  {
   "cell_type": "markdown",
   "id": "8a6d3451",
   "metadata": {},
   "source": [
    "As theorised above, the sparse implementation is highly similar to the linear trajectory of the Jaccards."
   ]
  },
  {
   "cell_type": "code",
   "execution_count": 263,
   "id": "df7ed310",
   "metadata": {},
   "outputs": [
    {
     "name": "stdout",
     "output_type": "stream",
     "text": [
      "Slope is 0.9622024646875632 and intercept is -6.472489070354431\n"
     ]
    }
   ],
   "source": [
    "log_scx = [np.log10(x) for x in scos_xs]\n",
    "log_scy = [np.log10(y) for y in scos_ys]\n",
    "slope, intercept, r_value, p_value, std_err = stats.linregress(log_dcxs, log_dcys)\n",
    "print(\"Slope is {} and intercept is {}\".format(slope,intercept)) "
   ]
  },
  {
   "cell_type": "markdown",
   "id": "6a939293",
   "metadata": {},
   "source": [
    "$y = 10^-{6}*x^{0.96}$, which is slightly better than Jaccard and identical to Numpy dot product implementation."
   ]
  },
  {
   "cell_type": "markdown",
   "id": "8e443c3a",
   "metadata": {},
   "source": [
    "# Section 4: All-pairs similarities for a collection of document"
   ]
  },
  {
   "cell_type": "markdown",
   "id": "5d05904b",
   "metadata": {},
   "source": [
    "### Algorithmic Interpretation of All Pair Similarity"
   ]
  },
  {
   "cell_type": "code",
   "execution_count": 5,
   "id": "7f76dd8c",
   "metadata": {},
   "outputs": [],
   "source": [
    "def all_pairs_similarity(sim_func, dictdocs):\n",
    "    \n",
    "    sims = []\n",
    "    \n",
    "#nested loops to compare all docs against eachother using specified similarity measure\n",
    "    if sim_func == 'cos':\n",
    "        \n",
    "        doc_list = doc.transpose(doc.make_matrix(dictdocs))\n",
    "        \n",
    "        for doc_a in doc_list:\n",
    "            row_sim = []   \n",
    "            for doc_b in doc_list:\n",
    "                row_sim.append(cosine_sim(doc_a,doc_b))\n",
    "            \n",
    "            sims.append(row_sim)\n",
    "        \n",
    "    elif sim_func == 'jac':\n",
    "        \n",
    "        for doc_a in dictdocs:\n",
    "            row_sim = []   \n",
    "            for doc_b in dictdocs:\n",
    "                row_sim.append(jaccard(doc_a,doc_b))\n",
    "                \n",
    "            sims.append(row_sim)\n",
    "            \n",
    "    elif sim_func == 'spacos':\n",
    "        \n",
    "        for doc_a in dictdocs:\n",
    "            row_sim = []   \n",
    "            for doc_b in dictdocs:\n",
    "                row_sim.append(cosine_sim_dict(doc_a,doc_b))\n",
    "                \n",
    "            sims.append(row_sim)\n",
    "\n",
    "             \n",
    "    return sims"
   ]
  },
  {
   "cell_type": "markdown",
   "id": "76c2a50f",
   "metadata": {},
   "source": [
    "The algorithm takes a similarity function and document list. The nested for loop compares every dictionary against eachother in the list. The similarity function called within the nested for loop adds another order to the current quadratic run time. The theoretical worse case runtime for this algorithm is $O(n^{3})$."
   ]
  },
  {
   "cell_type": "markdown",
   "id": "a203ba6b",
   "metadata": {},
   "source": [
    "### Empirical analysis"
   ]
  },
  {
   "cell_type": "markdown",
   "id": "d5e7915f",
   "metadata": {},
   "source": [
    "#### Investigate the time to execute all pair similarity with increasing number of documents."
   ]
  },
  {
   "cell_type": "code",
   "execution_count": 12,
   "id": "ee57672c",
   "metadata": {},
   "outputs": [],
   "source": [
    "jac_ap = []\n",
    "cos_ap = []\n",
    "spa_cos = []\n",
    "num_docs = []\n",
    "\n",
    "#looping maxium length of the list of dictionarys (50)\n",
    "for n in range(10,50):\n",
    "\n",
    "    ans, mean, error = time_it.timeit(all_pairs_similarity, 'jac', docdicts[:n], repeats = 50)\n",
    "    jac_ap.append(mean)\n",
    "    \n",
    "    ans, mean, error = time_it.timeit(all_pairs_similarity, 'cos', docdicts[:n], repeats = 50)\n",
    "    cos_ap.append(mean)\n",
    "    \n",
    "    ans, mean, error = time_it.timeit(all_pairs_similarity, 'spacos', docdicts[:n], repeats = 50)\n",
    "    spa_cos.append(mean)\n",
    "    \n",
    "    num_docs.append(n)"
   ]
  },
  {
   "cell_type": "code",
   "execution_count": 266,
   "id": "46b61d80",
   "metadata": {},
   "outputs": [
    {
     "data": {
      "text/plain": [
       "<matplotlib.legend.Legend at 0x7fe4a083e2b0>"
      ]
     },
     "execution_count": 266,
     "metadata": {},
     "output_type": "execute_result"
    },
    {
     "data": {
      "image/png": "[encoded data removed]",
      "text/plain": [
       "<Figure size 432x288 with 1 Axes>"
      ]
     },
     "metadata": {
      "needs_background": "light"
     },
     "output_type": "display_data"
    }
   ],
   "source": [
    "plt.plot(num_docs,cos_ap)\n",
    "plt.plot(num_docs,jac_ap)\n",
    "plt.plot(num_docs,spa_cos)\n",
    "plt.xlabel(\"Amount of Documents\")\n",
    "plt.title(\"All pair Similarity\")\n",
    "plt.legend([\"Cos\", \"Jac\", \"cos sparse\"])"
   ]
  },
  {
   "cell_type": "code",
   "execution_count": 270,
   "id": "6d208395",
   "metadata": {},
   "outputs": [
    {
     "name": "stdout",
     "output_type": "stream",
     "text": [
      "Cos Sparse - Slope is 2.6601433026118966 and intercept is -3.7691912815603756\n",
      "Jaccard - Slope is 1.9752732495817478 and intercept is -3.75793481427303\n"
     ]
    }
   ],
   "source": [
    "log_cdr = [np.log10(x) for x in cos_ap]\n",
    "log_jac = [np.log10(x) for x in jac_ap]\n",
    "log_numap = [np.log10(y) for y in num_docs]\n",
    "slope, intercept, r_value, p_value, std_err = stats.linregress(log_numap, log_cdr)\n",
    "print(\"Cos Sparse - Slope is {} and intercept is {}\".format(slope,intercept)) \n",
    "slope, intercept, r_value, p_value, std_err = stats.linregress(log_numap, log_jac)\n",
    "print(\"Jaccard - Slope is {} and intercept is {}\".format(slope,intercept)) "
   ]
  },
  {
   "cell_type": "markdown",
   "id": "0c804c5c",
   "metadata": {},
   "source": [
    "The growth of the cosine measure rises significantly with the increase of documents above 15. At 50 documents the execution time is nearly five seconds more than the Jaccards and Cosine Sparse. The question of whether the similarity measure is of concern, it is evident that for documents up to 50 the Jaccard similarity measure is a more efficient algorithm. Jaccard has a empirically different result, it runs at $O(n^{2})$. Given that the cosine sparse implementation is similar, it can be put down to the dictionary representation(sparse) of the documents of words. The consine has gradient 2.66, slower than 3, due to operations being performed outside of the nested loop."
   ]
  },
  {
   "cell_type": "markdown",
   "id": "5b1f4fdd",
   "metadata": {},
   "source": [
    "The repective equations for this implementation: $y = 0.0001 * x^{2.66}$ and $y = 0.0001 * x^{1.97}$"
   ]
  },
  {
   "cell_type": "markdown",
   "id": "31ae06bb",
   "metadata": {},
   "source": [
    "### Estimating the runtime of 200k for all pair similarity"
   ]
  },
  {
   "cell_type": "markdown",
   "id": "d348bce9",
   "metadata": {},
   "source": [
    "If processing 200k documents, this magnitude of input could be classified as asymptotic. In the theoretical analysis it was given that the worse case for this algorithm is $O(n^{3})$. Empirically, that figure is for dense representation and $O(n^{2})$ is given to sparse representation. Hence, the estimate for 200k documents for sparse: $0.0001 * 200000^{2}$ = $4000000$ seconds, and dense: $0.0001 * 200000^{3}$ = $8×10^{11}$ seconds."
   ]
  },
  {
   "cell_type": "markdown",
   "id": "84eeca01",
   "metadata": {},
   "source": [
    "# Section 5: Parallel Map Reduce Implementation"
   ]
  },
  {
   "cell_type": "markdown",
   "id": "3daed360",
   "metadata": {},
   "source": [
    "In this section the Map Reduce paradigm is implemented in conjunction with parallel processing in order to reduce the runtime of all pair similarity of documents."
   ]
  },
  {
   "cell_type": "code",
   "execution_count": 19,
   "id": "8b0c0b2e",
   "metadata": {},
   "outputs": [],
   "source": [
    "from multiprocessing import Pool\n",
    "from collections import defaultdict"
   ]
  },
  {
   "cell_type": "code",
   "execution_count": 18,
   "id": "fc73d500",
   "metadata": {},
   "outputs": [],
   "source": [
    "def mapper(document):\n",
    "    \n",
    "    output = []\n",
    "    \n",
    "    #mapping values to associated key\n",
    "    for num in document:\n",
    "        output.append((str(num[0]),num))\n",
    "         \n",
    "    return output"
   ]
  },
  {
   "cell_type": "code",
   "execution_count": 17,
   "id": "a107b0ba",
   "metadata": {},
   "outputs": [],
   "source": [
    "def jaccard_reducer(item):\n",
    "    \n",
    "    output = []\n",
    "    \n",
    "    (key, values) = item\n",
    "    \n",
    "    #looping through the mapped document indexe\n",
    "    for value in values:\n",
    "        \n",
    "        jac = jaccard(docdicts[value[0]],docdicts[value[1]])\n",
    "        \n",
    "        output.append(((value[0],value[1]),jac))\n",
    "        \n",
    "    return output"
   ]
  },
  {
   "cell_type": "code",
   "execution_count": 24,
   "id": "e455b884",
   "metadata": {},
   "outputs": [],
   "source": [
    "def cosine_reducer(item):\n",
    "    \n",
    "    output = []\n",
    "    \n",
    "    (key, values) = item\n",
    "    \n",
    "    #looping through the mapped document indexes\n",
    "    for value in values: \n",
    "        cos_sim = cosine_sim(vect_rep[value[0]],vect_rep[value[1]]) \n",
    "        output.append(((value[0],value[1]),cos_sim))\n",
    "        \n",
    "    return output"
   ]
  },
  {
   "cell_type": "code",
   "execution_count": 15,
   "id": "ed53cfb6",
   "metadata": {},
   "outputs": [],
   "source": [
    "def map_reduce_parallel(doc, mapper, reducer, mapprocesses = 3,reduceprocesses = 2):\n",
    "    \n",
    "    outputs = []\n",
    "    collector = defaultdict(list)  #this dictionary is where we will store intermediate results\n",
    "                                 \n",
    "    #creating given amount processes for mapper\n",
    "    mappool = Pool(processes = mapprocesses)\n",
    "    \n",
    "    #assigning processes\n",
    "    mapresults = mappool.map(mapper, doc)\n",
    "    mappool.close()\n",
    "\n",
    "    for mapresult in mapresults:\n",
    "        for (key, value) in mapresult:     #pass each input to the mapper function and receive back each key,value pair\n",
    "            collector[key].append(value)     #append the value to the list for that key in the intermediate store\n",
    "\n",
    "    #creating given amount processes for reduce\n",
    "    reducepool = Pool(processes = reduceprocesses)\n",
    "    \n",
    "    #allocating processes\n",
    "    reduceresults = reducepool.map(reducer, collector.items())\n",
    "    reducepool.close()\n",
    "    \n",
    "    #assemble results\n",
    "    for reduceresult in reduceresults:\n",
    "        outputs += reduceresult\n",
    "        \n",
    "    return outputs"
   ]
  },
  {
   "cell_type": "code",
   "execution_count": 14,
   "id": "ba369ec6",
   "metadata": {},
   "outputs": [],
   "source": [
    "#creating an list of indexes of all the different combinations of documents\n",
    "def all_pairs_mapreduce(my_docs, mapper, reducer, mp = 3, rp = 2):\n",
    "    \n",
    "    sims = []\n",
    "    \n",
    "    for i in range(len(my_docs)):\n",
    "        rowsims=[]\n",
    "        for j in range(len(my_docs)):\n",
    "            rowsims.append([i,j])\n",
    "            \n",
    "        sims.append(rowsims)\n",
    "            \n",
    "    return map_reduce_parallel(sims, mapper, reducer, mp, rp)"
   ]
  },
  {
   "cell_type": "markdown",
   "id": "b1f9314c",
   "metadata": {},
   "source": [
    "The function all_pairs_mapreduce serves for creating all the combination of documents to be passed into the map reduce function. The mapper creates key value pairs from this input. This is then passed into the reducer function which calculates the similarity measure and collects the results. Both the map and reduce stages are executed in parallel with a given amount of processes allocated, either by default, or as an argu\n",
    "ment. If the passed in the dictionary of documents slice [3:30] it would fail to execute. This is because all_pairs_mapreduce method simply creates an index of every combination of the given dictionary. Not the actually position this dictionary is in the parent list."
   ]
  },
  {
   "cell_type": "markdown",
   "id": "ebaface0",
   "metadata": {},
   "source": [
    "#### Correctness and effeciency check of map reduce"
   ]
  },
  {
   "cell_type": "markdown",
   "id": "bc0f6ac1",
   "metadata": {},
   "source": [
    "An arbitrary amount of documents are taken to check the correctness of the map reduce for both Cosine and Jaccard."
   ]
  },
  {
   "cell_type": "code",
   "execution_count": 199,
   "id": "80cb5e7a",
   "metadata": {},
   "outputs": [
    {
     "name": "stdout",
     "output_type": "stream",
     "text": [
      "[[1.0, 0.3405517650548799, 0.3265785609397944, 0.31611570247933884]]\n",
      "[((0, 0), 1.0), ((0, 1), 0.3405517650548799), ((0, 2), 0.3265785609397944), ((0, 3), 0.31611570247933884)]\n"
     ]
    }
   ],
   "source": [
    "ap_sim = all_pairs_similarity('jac', docdicts[:4])\n",
    "ap_sim_mr = all_pairs_mapreduce(docdicts[:4], mapper, jaccard_reducer)\n",
    "\n",
    "print(ap_sim[:1])\n",
    "print(ap_sim_mr[:4])"
   ]
  },
  {
   "cell_type": "code",
   "execution_count": 256,
   "id": "d10d3d3c",
   "metadata": {},
   "outputs": [
    {
     "name": "stdout",
     "output_type": "stream",
     "text": [
      "[[1.0, 0.9223404674452017, 0.9315044962441451, 0.9249181173135336, 0.9302878354686984]]\n",
      "[((0, 0), 1.0), ((0, 1), 0.9223404674452017), ((0, 2), 0.9315044962441451), ((0, 3), 0.9249181173135336), ((0, 4), 0.9302878354686984)]\n"
     ]
    }
   ],
   "source": [
    "ap_sim = all_pairs_similarity('spacos', docdicts[:5])\n",
    "ap_sim_mr = all_pairs_mapreduce(docdicts[:8], mapper, cosine_reducer)\n",
    "\n",
    "print(ap_sim[:1])\n",
    "print(ap_sim_mr[:5])"
   ]
  },
  {
   "cell_type": "markdown",
   "id": "13ee124e",
   "metadata": {},
   "source": [
    "The map reduce is producing the same results as the standard all pairs. Now for the efficiency test."
   ]
  },
  {
   "cell_type": "code",
   "execution_count": 28,
   "id": "03fe94e4",
   "metadata": {},
   "outputs": [
    {
     "name": "stdout",
     "output_type": "stream",
     "text": [
      "2.9709797620773317\n",
      "0.2577135801315308\n"
     ]
    }
   ],
   "source": [
    "ans, mean_cos, error = time_it.timeit(all_pairs_mapreduce, docdicts, mapper, cosine_reducer, repeats = 50)\n",
    "ans, mean_jac, error = time_it.timeit(all_pairs_mapreduce, docdicts, mapper, jaccard_reducer, repeats = 50)\n",
    "\n",
    "print(mean_cos)\n",
    "print(mean_jac)\n"
   ]
  },
  {
   "cell_type": "code",
   "execution_count": 30,
   "id": "6dafb68c",
   "metadata": {},
   "outputs": [
    {
     "name": "stdout",
     "output_type": "stream",
     "text": [
      "5.245241184234619\n",
      "0.3966351509094238\n"
     ]
    }
   ],
   "source": [
    "ans, mean_jac_norm, error = time_it.timeit(all_pairs_similarity, 'jac', docdicts, repeats = 50)\n",
    "ans, mean_cos_norm, error = time_it.timeit(all_pairs_similarity, 'cos', docdicts, repeats = 50)\n",
    "\n",
    "print(mean_cos_norm)\n",
    "print(mean_jac_norm)"
   ]
  },
  {
   "cell_type": "markdown",
   "id": "a442ec2f",
   "metadata": {},
   "source": [
    "The map reduce parallel took over two seconds off the cosine similarity execution time, but added addition time to the jaccard. Manipulating the process for the mapper and reducer may produce lower results."
   ]
  },
  {
   "cell_type": "markdown",
   "id": "424e19bf",
   "metadata": {},
   "source": [
    "#### Investigation into optimal allocation of map and reduce processes"
   ]
  },
  {
   "cell_type": "code",
   "execution_count": 34,
   "id": "519ac7f9",
   "metadata": {},
   "outputs": [
    {
     "name": "stdout",
     "output_type": "stream",
     "text": [
      "1.5157763004302978\n",
      "0.14996879577636718\n"
     ]
    }
   ],
   "source": [
    "#test 1\n",
    "ans, meanc, er = time_it.timeit(all_pairs_mapreduce, docdicts, mapper, cosine_reducer, mp=4,rp=4, repeats = 50)\n",
    "ans, meanj, er = time_it.timeit(all_pairs_mapreduce, docdicts, mapper, jaccard_reducer, mp=4,rp=4, repeats = 50)\n",
    "print(meanc)\n",
    "print(meanj)"
   ]
  },
  {
   "cell_type": "code",
   "execution_count": 35,
   "id": "69b0d36e",
   "metadata": {},
   "outputs": [
    {
     "name": "stdout",
     "output_type": "stream",
     "text": [
      "1.3238863706588746\n",
      "0.14290022373199462\n"
     ]
    }
   ],
   "source": [
    "#test 2\n",
    "ans, meanc, er = time_it.timeit(all_pairs_mapreduce, docdicts, mapper, cosine_reducer, mp=2,rp=5, repeats = 50)\n",
    "ans, meanj, er = time_it.timeit(all_pairs_mapreduce, docdicts, mapper, jaccard_reducer, mp=2,rp=5, repeats = 50)\n",
    "print(meanc)\n",
    "print(meanj)"
   ]
  },
  {
   "cell_type": "code",
   "execution_count": 36,
   "id": "6284eec3",
   "metadata": {},
   "outputs": [
    {
     "name": "stdout",
     "output_type": "stream",
     "text": [
      "1.011369185447693\n",
      "0.13006983280181886\n"
     ]
    }
   ],
   "source": [
    "#test 3 \n",
    "ans, meanc, er = time_it.timeit(all_pairs_mapreduce, docdicts, mapper, cosine_reducer, mp=2,rp=6, repeats = 50)\n",
    "ans, meanj, er = time_it.timeit(all_pairs_mapreduce, docdicts, mapper, jaccard_reducer, mp=2,rp=6, repeats = 50)\n",
    "print(meanc)\n",
    "print(meanj)"
   ]
  },
  {
   "cell_type": "code",
   "execution_count": 37,
   "id": "0bae1d7e",
   "metadata": {},
   "outputs": [
    {
     "name": "stdout",
     "output_type": "stream",
     "text": [
      "0.9808829307556153\n",
      "0.18402697563171386\n"
     ]
    }
   ],
   "source": [
    "#test 4\n",
    "ans, meanc, er = time_it.timeit(all_pairs_mapreduce, docdicts, mapper, cosine_reducer, mp=1,rp=7, repeats = 50)\n",
    "ans, meanj, er = time_it.timeit(all_pairs_mapreduce, docdicts, mapper, jaccard_reducer, mp=1,rp=7, repeats = 50)\n",
    "print(meanc)\n",
    "print(meanj)"
   ]
  },
  {
   "cell_type": "code",
   "execution_count": 38,
   "id": "d3b425fb",
   "metadata": {},
   "outputs": [
    {
     "name": "stdout",
     "output_type": "stream",
     "text": [
      "0.7203324127197266\n",
      "0.1200319004058838\n"
     ]
    }
   ],
   "source": [
    "#test 5\n",
    "ans, meanc, er = time_it.timeit(all_pairs_mapreduce, docdicts, mapper, cosine_reducer, mp=2,rp=10, repeats = 50)\n",
    "ans, meanj, er = time_it.timeit(all_pairs_mapreduce, docdicts, mapper, jaccard_reducer, mp=2,rp=10, repeats = 50)\n",
    "print(meanc)\n",
    "print(meanj)"
   ]
  },
  {
   "cell_type": "code",
   "execution_count": 39,
   "id": "b079cca6",
   "metadata": {},
   "outputs": [
    {
     "name": "stdout",
     "output_type": "stream",
     "text": [
      "0.6003373193740845\n",
      "0.11373273849487305\n"
     ]
    }
   ],
   "source": [
    "#test 6\n",
    "ans, meanc, er = time_it.timeit(all_pairs_mapreduce, docdicts, mapper, cosine_reducer, mp=2,rp=15, repeats = 50)\n",
    "ans, meanj, er = time_it.timeit(all_pairs_mapreduce, docdicts, mapper, jaccard_reducer, mp=2,rp=15, repeats = 50)\n",
    "print(meanc)\n",
    "print(meanj)"
   ]
  },
  {
   "cell_type": "code",
   "execution_count": 40,
   "id": "0b595422",
   "metadata": {},
   "outputs": [
    {
     "name": "stdout",
     "output_type": "stream",
     "text": [
      "0.6177734708786011\n",
      "0.132286114692688\n"
     ]
    }
   ],
   "source": [
    "#test 7\n",
    "ans, meanc, er = time_it.timeit(all_pairs_mapreduce, docdicts, mapper, cosine_reducer, mp=15,rp=15, repeats = 50)\n",
    "ans, meanj, er = time_it.timeit(all_pairs_mapreduce, docdicts, mapper, jaccard_reducer, mp=15,rp=15, repeats = 50)\n",
    "print(meanc)\n",
    "print(meanj)"
   ]
  },
  {
   "cell_type": "markdown",
   "id": "1bd2aad1",
   "metadata": {},
   "source": [
    "The process followed that map process of 2 gave an optimum result over both the original 3 then 4,1. A sanity check of a higher number 15, but proved worse in test 7. Since the similarity is calculated in the reducer it correlates that when we increase the reduce process for this, time execution drastically for cosine. Most significantly for the cosine. From the original 5.2 basic all pair sim, to 0.61 in parallel when map process = 2 and reduce process = 15."
   ]
  },
  {
   "cell_type": "markdown",
   "id": "d39f08fd",
   "metadata": {},
   "source": [
    "# Summary"
   ]
  },
  {
   "cell_type": "markdown",
   "id": "e6a8d014",
   "metadata": {},
   "source": [
    "After investigating the Jaccard and Cosine similarity, it was derived that they could be denoted with $O(n)$ by big O notation. The dense (vector) representation of the documents when applied with Numpy's dot product was ever so slighty more efficient in execution time than the rest. However, an interesting relationship appeared when applying both forms of data representation within a nested loop. The sparse representation performing better by a whole order of polynomial. The Map Reduce/Parallel implementation yielded low execution times in comparison to the ordinary all pair function by almost 5 seconds. Leaving it not far behind the Jaccard."
   ]
  }
 ],
 "metadata": {
  "kernelspec": {
   "display_name": "Python 3 (ipykernel)",
   "language": "python",
   "name": "python3"
  },
  "language_info": {
   "codemirror_mode": {
    "name": "ipython",
    "version": 3
   },
   "file_extension": ".py",
   "mimetype": "text/x-python",
   "name": "python",
   "nbconvert_exporter": "python",
   "pygments_lexer": "ipython3",
   "version": "3.9.7"
  }
 },
 "nbformat": 4,
 "nbformat_minor": 5
}
